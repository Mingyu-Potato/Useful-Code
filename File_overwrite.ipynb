{
 "cells": [
  {
   "cell_type": "code",
   "execution_count": null,
   "metadata": {},
   "outputs": [],
   "source": [
    "import os, glob, shutil\n",
    "\n",
    "[os.remove(f) for f in glob.glob('_merge_abnr_fuse_0-133/*.png')]\n",
    "\n",
    "summed_paths = sorted(glob.glob('_summed_gt_gu/*.jpg'))\n",
    "os.makedirs('fixed_gt_gu', exist_ok=True)\n",
    "\n",
    "for p in summed_paths:\n",
    "    print(p)\n",
    "    shutil.copy('_merge_abnr_fuse_0-133/{}'.format(os.path.basename(p)), 'fixed_gt_gu')"
   ]
  }
 ],
 "metadata": {
  "kernelspec": {
   "display_name": "Python 3",
   "language": "python",
   "name": "python3"
  },
  "language_info": {
   "codemirror_mode": {
    "name": "ipython",
    "version": 3
   },
   "file_extension": ".py",
   "mimetype": "text/x-python",
   "name": "python",
   "nbconvert_exporter": "python",
   "pygments_lexer": "ipython3",
   "version": "3.8.5"
  }
 },
 "nbformat": 4,
 "nbformat_minor": 4
}
